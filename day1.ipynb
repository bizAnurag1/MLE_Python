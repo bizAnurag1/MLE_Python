{
 "cells": [
  {
   "cell_type": "code",
   "execution_count": null,
   "metadata": {},
   "outputs": [],
   "source": [
    "# ask user to enter name, 10_marks, 12_marks, mobile\n",
    "# put the validations\n",
    "# then create emp_id"
   ]
  },
  {
   "cell_type": "code",
   "execution_count": 11,
   "metadata": {},
   "outputs": [
    {
     "name": "stdout",
     "output_type": "stream",
     "text": [
      "Hii, user\n",
      "hello anurag\n"
     ]
    }
   ],
   "source": [
    "print(\"Hii, user\")\n",
    "Name = str(input(\"enter your name\"))\n",
    "marks_10 = int(input(\"enter your 10th marks\"))\n",
    "marks_12 = int(input(\"enter your 12th marks\"))\n",
    "mobile = input(\"enter your number\")\n",
    "print(\"hello\", Name)"
   ]
  },
  {
   "cell_type": "code",
   "execution_count": 12,
   "metadata": {},
   "outputs": [],
   "source": [
    "if marks_10 < 100 and marks_12 < 100:\n",
    "    mark_10 = marks_10\n",
    "    mark_12 = marks_12\n",
    "    if len(mobile) == 10:\n",
    "        mobile = mobile\n",
    "    else:\n",
    "        print(\"mobile no is invalid\")\n",
    "else:\n",
    "    print(\"marks are invalid\")"
   ]
  },
  {
   "cell_type": "code",
   "execution_count": 13,
   "metadata": {},
   "outputs": [],
   "source": [
    "import sys"
   ]
  },
  {
   "cell_type": "code",
   "execution_count": 14,
   "metadata": {},
   "outputs": [],
   "source": [
    "def val_name(name):\n",
    "    try:\n",
    "        if name.isalpha():\n",
    "            flag = True\n",
    "            message = \"validated\"\n",
    "        else:\n",
    "            raise Exception(\"Name should have all characters\")\n",
    "    except:\n",
    "        flag = False\n",
    "        message = sys.exc_info()\n",
    "    return name"
   ]
  },
  {
   "cell_type": "code",
   "execution_count": 20,
   "metadata": {},
   "outputs": [],
   "source": [
    "name = \"anurag\""
   ]
  },
  {
   "cell_type": "code",
   "execution_count": 21,
   "metadata": {},
   "outputs": [
    {
     "data": {
      "text/plain": [
       "'anurag'"
      ]
     },
     "execution_count": 21,
     "metadata": {},
     "output_type": "execute_result"
    }
   ],
   "source": [
    "val_name(name)"
   ]
  },
  {
   "cell_type": "code",
   "execution_count": 22,
   "metadata": {},
   "outputs": [],
   "source": [
    "def val_marks(marks):\n",
    "    try:\n",
    "        if marks.isnum() and marks < 101:\n",
    "            flag = True\n",
    "            message = \"validated\"\n",
    "        else:\n",
    "            raise Exception(\"Marks should numeric and less than 101\")\n",
    "    except:\n",
    "        flag = False\n",
    "        message = sys.exc_info()\n",
    "    return marks"
   ]
  },
  {
   "cell_type": "code",
   "execution_count": 24,
   "metadata": {},
   "outputs": [
    {
     "data": {
      "text/plain": [
       "'anurag'"
      ]
     },
     "execution_count": 24,
     "metadata": {},
     "output_type": "execute_result"
    }
   ],
   "source": [
    "marks10 = 91.00\n",
    "val_marks(marks10)"
   ]
  },
  {
   "cell_type": "code",
   "execution_count": 25,
   "metadata": {},
   "outputs": [],
   "source": [
    "def val_mobile(mob_no):\n",
    "    try:\n",
    "        if mob_no.isnum() and len(mob_no) == 11:\n",
    "            flag = True\n",
    "            message = \"validated\"\n",
    "        else:\n",
    "            raise Exception(\"Marks should numeric and less than 101\")\n",
    "    except:\n",
    "        flag = False\n",
    "        message = sys.exc_info()\n",
    "    return mob_no"
   ]
  },
  {
   "cell_type": "code",
   "execution_count": 26,
   "metadata": {},
   "outputs": [
    {
     "data": {
      "text/plain": [
       "1234567890"
      ]
     },
     "execution_count": 26,
     "metadata": {},
     "output_type": "execute_result"
    }
   ],
   "source": [
    "mob = 1234567890\n",
    "val_mobile(mob)"
   ]
  },
  {
   "cell_type": "code",
   "execution_count": 30,
   "metadata": {},
   "outputs": [],
   "source": [
    "employee_dict = {}\n",
    "emp_num = len(employee_dict)+1\n",
    "employee_dict.update({emp_num:{\"name\": name}, \"marks\": marks10, \"mobile\": mob})"
   ]
  },
  {
   "cell_type": "code",
   "execution_count": 28,
   "metadata": {},
   "outputs": [
    {
     "data": {
      "text/plain": [
       "{1: {'name': 'anurag'}, 'marks': 91.0, 'mobile': 1234567890}"
      ]
     },
     "execution_count": 28,
     "metadata": {},
     "output_type": "execute_result"
    }
   ],
   "source": [
    "employee_dict"
   ]
  },
  {
   "cell_type": "code",
   "execution_count": null,
   "metadata": {},
   "outputs": [],
   "source": []
  }
 ],
 "metadata": {
  "kernelspec": {
   "display_name": "Python 3",
   "language": "python",
   "name": "python3"
  },
  "language_info": {
   "codemirror_mode": {
    "name": "ipython",
    "version": 3
   },
   "file_extension": ".py",
   "mimetype": "text/x-python",
   "name": "python",
   "nbconvert_exporter": "python",
   "pygments_lexer": "ipython3",
   "version": "3.10.11"
  }
 },
 "nbformat": 4,
 "nbformat_minor": 2
}
