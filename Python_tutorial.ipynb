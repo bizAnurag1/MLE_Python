{
 "cells": [
  {
   "cell_type": "code",
   "execution_count": 1,
   "metadata": {},
   "outputs": [],
   "source": [
    "a,b = 30,20"
   ]
  },
  {
   "cell_type": "code",
   "execution_count": 2,
   "metadata": {},
   "outputs": [
    {
     "name": "stdout",
     "output_type": "stream",
     "text": [
      "its 30\n"
     ]
    }
   ],
   "source": [
    "match a:\n",
    "    case 20:\n",
    "        print('its 20')\n",
    "    \n",
    "    case 30:\n",
    "        print('its 30')\n",
    "\n",
    "    case _:\n",
    "        print('none of the above')"
   ]
  },
  {
   "cell_type": "code",
   "execution_count": 3,
   "metadata": {},
   "outputs": [],
   "source": [
    "hello = lambda a: print(\"Hello \", a)"
   ]
  },
  {
   "cell_type": "code",
   "execution_count": 4,
   "metadata": {},
   "outputs": [
    {
     "name": "stdout",
     "output_type": "stream",
     "text": [
      "Hello  anurag\n"
     ]
    }
   ],
   "source": [
    "hello('anurag')"
   ]
  },
  {
   "cell_type": "code",
   "execution_count": 5,
   "metadata": {},
   "outputs": [],
   "source": [
    "a = [1,2,3,4]"
   ]
  },
  {
   "cell_type": "markdown",
   "metadata": {},
   "source": [
    "#### for dictionary pop(): we require index \n",
    "#### for popitem(): don't need parameter, it removes last key,value pair"
   ]
  },
  {
   "cell_type": "code",
   "execution_count": 6,
   "metadata": {},
   "outputs": [],
   "source": [
    "d = {1:'a', 2:'b', 3:'c'}"
   ]
  },
  {
   "cell_type": "code",
   "execution_count": 7,
   "metadata": {},
   "outputs": [
    {
     "data": {
      "text/plain": [
       "'b'"
      ]
     },
     "execution_count": 7,
     "metadata": {},
     "output_type": "execute_result"
    }
   ],
   "source": [
    "d.pop(2)"
   ]
  },
  {
   "cell_type": "code",
   "execution_count": 8,
   "metadata": {},
   "outputs": [
    {
     "data": {
      "text/plain": [
       "(3, 'c')"
      ]
     },
     "execution_count": 8,
     "metadata": {},
     "output_type": "execute_result"
    }
   ],
   "source": [
    "d.popitem()"
   ]
  },
  {
   "cell_type": "code",
   "execution_count": 9,
   "metadata": {},
   "outputs": [
    {
     "data": {
      "text/plain": [
       "{1: 'a'}"
      ]
     },
     "execution_count": 9,
     "metadata": {},
     "output_type": "execute_result"
    }
   ],
   "source": [
    "d"
   ]
  },
  {
   "cell_type": "code",
   "execution_count": 10,
   "metadata": {},
   "outputs": [],
   "source": [
    "# functions/ generators:\n",
    "\n",
    "def gen_fun(*s):\n",
    "    print(s, type(s))\n",
    "    for i in s:\n",
    "        z = i+10\n",
    "        yield z\n",
    "\n",
    "gen_fun = gen_fun(1,3,5,7)"
   ]
  },
  {
   "cell_type": "code",
   "execution_count": 11,
   "metadata": {},
   "outputs": [
    {
     "name": "stdout",
     "output_type": "stream",
     "text": [
      "(1, 3, 5, 7) <class 'tuple'>\n",
      "[11, 13, 15, 17]\n"
     ]
    }
   ],
   "source": [
    "print(list(gen_fun))"
   ]
  },
  {
   "cell_type": "code",
   "execution_count": 12,
   "metadata": {},
   "outputs": [
    {
     "name": "stdout",
     "output_type": "stream",
     "text": [
      "{'a': 20, 'b': 30} <class 'dict'>\n"
     ]
    }
   ],
   "source": [
    "def dict_fun(**a):\n",
    "    \"\"\"\n",
    "    \n",
    "    \"\"\"\n",
    "    print(a, type(a))\n",
    "\n",
    "dict_fun(a = 20, b = 30)\n"
   ]
  },
  {
   "cell_type": "code",
   "execution_count": 13,
   "metadata": {},
   "outputs": [
    {
     "name": "stdout",
     "output_type": "stream",
     "text": [
      "-------\n",
      "{'1': 20, '2': 30, '3': 40} <class 'dict'>\n"
     ]
    }
   ],
   "source": [
    "\n",
    "print(\"-------\")\n",
    "d = {'1':20, '2':30, '3':40}\n",
    "dict_fun(**d)"
   ]
  },
  {
   "cell_type": "code",
   "execution_count": 14,
   "metadata": {},
   "outputs": [],
   "source": [
    "def my_decorator(func):\n",
    "    def wrapper_funtion(x):\n",
    "        print('before calling', func.__name__)\n",
    "        func(x)\n",
    "        print('after calling', func.__name__)\n",
    "    return wrapper_funtion"
   ]
  },
  {
   "cell_type": "code",
   "execution_count": 15,
   "metadata": {},
   "outputs": [],
   "source": [
    "@my_decorator\n",
    "def my_func(x):\n",
    "    print('inside the function', my_func.__name__, x)"
   ]
  },
  {
   "cell_type": "code",
   "execution_count": 16,
   "metadata": {},
   "outputs": [
    {
     "name": "stdout",
     "output_type": "stream",
     "text": [
      "before calling my_func\n",
      "inside the function wrapper_funtion 10\n",
      "after calling my_func\n"
     ]
    }
   ],
   "source": [
    "my_func(10)"
   ]
  },
  {
   "cell_type": "code",
   "execution_count": 17,
   "metadata": {},
   "outputs": [],
   "source": [
    "def check_integer(func):\n",
    "    def wrapper(n):\n",
    "        if type(n)== int and n>0:\n",
    "            return func(n)\n",
    "        else:\n",
    "            raise Exception(\"argument is not an integer and must be greater than 0\")\n",
    "    return wrapper"
   ]
  },
  {
   "cell_type": "code",
   "execution_count": 18,
   "metadata": {},
   "outputs": [],
   "source": [
    "def check_integer1(func):\n",
    "    def wrapper(n):\n",
    "        if not int(n):\n",
    "            raise ValueError(\"Input must be an integer\")\n",
    "        if n < 0:\n",
    "            raise ValueError(\"Input must be a non-negative integer\")\n",
    "        return func(n)\n",
    "    return wrapper"
   ]
  },
  {
   "cell_type": "code",
   "execution_count": 19,
   "metadata": {},
   "outputs": [],
   "source": [
    "@check_integer1\n",
    "def factorial(n):\n",
    "    if n == 0 or n == 1:\n",
    "        return 1\n",
    "    else:\n",
    "        return n * factorial(n - 1)"
   ]
  },
  {
   "cell_type": "code",
   "execution_count": 20,
   "metadata": {},
   "outputs": [
    {
     "data": {
      "text/plain": [
       "120"
      ]
     },
     "execution_count": 20,
     "metadata": {},
     "output_type": "execute_result"
    }
   ],
   "source": [
    "factorial(5)"
   ]
  },
  {
   "cell_type": "code",
   "execution_count": 21,
   "metadata": {},
   "outputs": [
    {
     "ename": "ValueError",
     "evalue": "Input must be a non-negative integer",
     "output_type": "error",
     "traceback": [
      "\u001b[1;31m---------------------------------------------------------------------------\u001b[0m",
      "\u001b[1;31mValueError\u001b[0m                                Traceback (most recent call last)",
      "Cell \u001b[1;32mIn[21], line 1\u001b[0m\n\u001b[1;32m----> 1\u001b[0m \u001b[43mfactorial\u001b[49m\u001b[43m(\u001b[49m\u001b[38;5;241;43m-\u001b[39;49m\u001b[38;5;241;43m5\u001b[39;49m\u001b[43m)\u001b[49m\n",
      "Cell \u001b[1;32mIn[18], line 6\u001b[0m, in \u001b[0;36mcheck_integer1.<locals>.wrapper\u001b[1;34m(n)\u001b[0m\n\u001b[0;32m      4\u001b[0m     \u001b[38;5;28;01mraise\u001b[39;00m \u001b[38;5;167;01mValueError\u001b[39;00m(\u001b[38;5;124m\"\u001b[39m\u001b[38;5;124mInput must be an integer\u001b[39m\u001b[38;5;124m\"\u001b[39m)\n\u001b[0;32m      5\u001b[0m \u001b[38;5;28;01mif\u001b[39;00m n \u001b[38;5;241m<\u001b[39m \u001b[38;5;241m0\u001b[39m:\n\u001b[1;32m----> 6\u001b[0m     \u001b[38;5;28;01mraise\u001b[39;00m \u001b[38;5;167;01mValueError\u001b[39;00m(\u001b[38;5;124m\"\u001b[39m\u001b[38;5;124mInput must be a non-negative integer\u001b[39m\u001b[38;5;124m\"\u001b[39m)\n\u001b[0;32m      7\u001b[0m \u001b[38;5;28;01mreturn\u001b[39;00m func(n)\n",
      "\u001b[1;31mValueError\u001b[0m: Input must be a non-negative integer"
     ]
    }
   ],
   "source": [
    "factorial(-5)"
   ]
  },
  {
   "cell_type": "code",
   "execution_count": 22,
   "metadata": {},
   "outputs": [],
   "source": [
    "#create a decorator to check if all input are alphanumeric:\n",
    "def check_alphanumeric(func):\n",
    "    def wrapper(a):\n",
    "        if a.isalnum():\n",
    "            return func(a)\n",
    "        else:\n",
    "            raise ValueError(\"Input must be an alphanumeric\")\n",
    "    return wrapper"
   ]
  },
  {
   "cell_type": "code",
   "execution_count": 23,
   "metadata": {},
   "outputs": [],
   "source": [
    "@check_alphanumeric\n",
    "def enter_no(a):\n",
    "    print(f\"{a} is alphanumeric\")"
   ]
  },
  {
   "cell_type": "code",
   "execution_count": 24,
   "metadata": {},
   "outputs": [
    {
     "name": "stdout",
     "output_type": "stream",
     "text": [
      "123abc is alphanumeric\n"
     ]
    }
   ],
   "source": [
    "enter_no('123abc')"
   ]
  },
  {
   "cell_type": "code",
   "execution_count": 25,
   "metadata": {},
   "outputs": [
    {
     "name": "stdout",
     "output_type": "stream",
     "text": [
      "The string is alphanumeric.\n"
     ]
    }
   ],
   "source": [
    "# Example of using isalnum() method on a string\n",
    "my_string = \"abc123\"\n",
    "if my_string.isalnum():\n",
    "    print(\"The string is alphanumeric.\")\n",
    "else:\n",
    "    print(\"The string is not alphanumeric.\")\n"
   ]
  },
  {
   "cell_type": "code",
   "execution_count": 26,
   "metadata": {},
   "outputs": [],
   "source": [
    "# writing decorator for checking given pan no is alphnumeric or not:\n",
    "def dec_check_alphanum(fun):\n",
    "    def wrapper(var):\n",
    "        if len(var)>0 and var.isalnum():\n",
    "            if var.isdigit():\n",
    "                raise Exception(\"Input contains only digits\")\n",
    "            elif var.isalpha():\n",
    "                raise Exception(\"Input contains only alphabets\")\n",
    "            else:\n",
    "                return fun(var)\n",
    "    return wrapper"
   ]
  },
  {
   "cell_type": "code",
   "execution_count": 27,
   "metadata": {},
   "outputs": [],
   "source": [
    "# function to validate pan no.\n",
    "import re\n",
    "@dec_check_alphanum\n",
    "def is_valid_pan(pan):\n",
    "    # Regex pattern for PAN\n",
    "    pattern = r'^[A-Z]{5}[0-9]{4}[A-Z]$'\n",
    "    \n",
    "    # Check if the PAN matches the pattern\n",
    "    if re.match(pattern, pan):\n",
    "        print('Given PAN validates all conditions:')\n",
    "    else:\n",
    "        raise Exception(\"error\")"
   ]
  },
  {
   "cell_type": "code",
   "execution_count": 28,
   "metadata": {},
   "outputs": [
    {
     "name": "stdout",
     "output_type": "stream",
     "text": [
      "Given PAN validates all conditions:\n"
     ]
    }
   ],
   "source": [
    "is_valid_pan('ABCDE1234A')"
   ]
  },
  {
   "cell_type": "code",
   "execution_count": 29,
   "metadata": {},
   "outputs": [],
   "source": [
    "@dec_check_alphanum\n",
    "def valid_rec_no(rec_no):\n",
    "    \"\"\"# Regex pattern for PAN\"\"\"\n",
    "    pattern = r'^[A-Z]{3}[0-9]{5}$'\n",
    "    \n",
    "    if re.match(pattern, rec_no):\n",
    "        print('Given rec_no validates all conditions:')\n",
    "    else:\n",
    "        raise Exception(\"error\")"
   ]
  },
  {
   "cell_type": "code",
   "execution_count": 30,
   "metadata": {},
   "outputs": [
    {
     "name": "stdout",
     "output_type": "stream",
     "text": [
      "Given rec_no validates all conditions:\n"
     ]
    }
   ],
   "source": [
    "valid_rec_no('ABC12345')"
   ]
  },
  {
   "cell_type": "code",
   "execution_count": 31,
   "metadata": {},
   "outputs": [],
   "source": [
    "@dec_check_alphanum\n",
    "def validate_rec_no(rec_no):\n",
    "    if len(rec_no) == 8 and rec_no[:3].isalpha() and rec_no[3:].isdigit():\n",
    "        return f\"Record number '{rec_no}' is valid.\"\n",
    "    else:\n",
    "        return f\"Record number '{rec_no}' is invalid.\""
   ]
  },
  {
   "cell_type": "code",
   "execution_count": 32,
   "metadata": {},
   "outputs": [
    {
     "name": "stdout",
     "output_type": "stream",
     "text": [
      "Given rec_no validates all conditions:\n"
     ]
    }
   ],
   "source": [
    "valid_rec_no('ABC12345')"
   ]
  },
  {
   "cell_type": "code",
   "execution_count": 33,
   "metadata": {},
   "outputs": [],
   "source": [
    "# Lambda Function:\n",
    "#  5) accpet two values from user and perform all arithmetic operations and return all\n",
    "arithmatic = lambda a, b: print(\"Addition:\", a+b,'\\n' \"Subtraction:\", a-b, '\\n' \"multiplication:\", a*b,'\\n' \"Division:\", a/b,'\\n')"
   ]
  },
  {
   "cell_type": "code",
   "execution_count": 35,
   "metadata": {},
   "outputs": [],
   "source": [
    "a = float(input())\n",
    "b = float(input())"
   ]
  },
  {
   "cell_type": "code",
   "execution_count": 36,
   "metadata": {},
   "outputs": [
    {
     "name": "stdout",
     "output_type": "stream",
     "text": [
      "Addition: 15.0 \n",
      "Subtraction: -5.0 \n",
      "multiplication: 50.0 \n",
      "Division: 0.5 \n",
      "\n"
     ]
    }
   ],
   "source": [
    "arithmatic(a, b)"
   ]
  },
  {
   "cell_type": "code",
   "execution_count": 37,
   "metadata": {},
   "outputs": [
    {
     "name": "stdout",
     "output_type": "stream",
     "text": [
      "Addition: 15.0 \n",
      "Subtraction: -5.0 \n",
      "multiplication: 50.0 \n",
      "Division: 0.5 \n",
      "\n"
     ]
    },
    {
     "data": {
      "text/plain": [
       "Series([], dtype: object)"
      ]
     },
     "execution_count": 37,
     "metadata": {},
     "output_type": "execute_result"
    }
   ],
   "source": [
    "import pandas as pd\n",
    "pd.Series(arithmatic(a, b))"
   ]
  },
  {
   "cell_type": "code",
   "execution_count": 38,
   "metadata": {},
   "outputs": [],
   "source": [
    "# if inside lambda funtion :\n",
    "var = lambda a: a*100 if a%2==0 else a*2"
   ]
  },
  {
   "cell_type": "code",
   "execution_count": 39,
   "metadata": {},
   "outputs": [
    {
     "name": "stdout",
     "output_type": "stream",
     "text": [
      "6\n",
      "600\n"
     ]
    }
   ],
   "source": [
    "print(var(3))\n",
    "print(var(6))"
   ]
  },
  {
   "cell_type": "code",
   "execution_count": 40,
   "metadata": {},
   "outputs": [],
   "source": [
    "hello = lambda a: print(\"Hello {}\".format(a))"
   ]
  },
  {
   "cell_type": "code",
   "execution_count": 41,
   "metadata": {},
   "outputs": [
    {
     "name": "stdout",
     "output_type": "stream",
     "text": [
      "Hello anurag\n"
     ]
    }
   ],
   "source": [
    "hello('anurag')"
   ]
  },
  {
   "cell_type": "code",
   "execution_count": 42,
   "metadata": {},
   "outputs": [],
   "source": [
    "l1 = [1,2,3,4,25]\n",
    "l2 = [1,2,3,4,5]"
   ]
  },
  {
   "cell_type": "code",
   "execution_count": 43,
   "metadata": {},
   "outputs": [],
   "source": [
    "from functools import reduce\n",
    "# map / filter for lambda:\n",
    "x = map(lambda a, b: a>b, l1, l2)\n",
    "y = filter(lambda a: a>20, l1)\n",
    "z = reduce(lambda a, b: a+b, l1)"
   ]
  },
  {
   "cell_type": "code",
   "execution_count": 44,
   "metadata": {},
   "outputs": [
    {
     "name": "stdout",
     "output_type": "stream",
     "text": [
      "[False, False, False, False, True]\n"
     ]
    }
   ],
   "source": [
    "print(list(x))"
   ]
  },
  {
   "cell_type": "code",
   "execution_count": 45,
   "metadata": {},
   "outputs": [
    {
     "name": "stdout",
     "output_type": "stream",
     "text": [
      "[25]\n"
     ]
    }
   ],
   "source": [
    "print(list(y))"
   ]
  },
  {
   "cell_type": "code",
   "execution_count": 46,
   "metadata": {},
   "outputs": [
    {
     "data": {
      "text/plain": [
       "35"
      ]
     },
     "execution_count": 46,
     "metadata": {},
     "output_type": "execute_result"
    }
   ],
   "source": [
    "z"
   ]
  },
  {
   "cell_type": "markdown",
   "metadata": {},
   "source": [
    "### Day4:"
   ]
  },
  {
   "cell_type": "code",
   "execution_count": 47,
   "metadata": {},
   "outputs": [],
   "source": [
    "import re\n",
    "def validate_name(name):\n",
    "    \"\"\"Check if the name contains only letters and spaces.\"\"\"\n",
    "    if re.match(r'[^a-zA-Z\\s]', name):\n",
    "        return False\n",
    "    return True"
   ]
  },
  {
   "cell_type": "code",
   "execution_count": 48,
   "metadata": {},
   "outputs": [],
   "source": [
    "\n",
    "def validate_marks(marks):\n",
    "    \"\"\"Check if the marks are numbers between 0 to 100\"\"\"\n",
    "    if marks.isdigit() and (0 <= marks <= 100):\n",
    "        return True\n",
    "    return False"
   ]
  },
  {
   "cell_type": "code",
   "execution_count": 49,
   "metadata": {},
   "outputs": [],
   "source": [
    "\n",
    "def validate_mobile(mobile_num):\n",
    "    \"\"\"Check if the mobile number is a 10-digit number.\"\"\"\n",
    "    if len(mobile_num) == 10 and mobile_num.isdigit():\n",
    "        return True\n",
    "    return False\n"
   ]
  },
  {
   "cell_type": "code",
   "execution_count": 50,
   "metadata": {},
   "outputs": [],
   "source": [
    "def user_input():\n",
    "    while True:\n",
    "        name = input(\"Enter your name: \")\n",
    "        \n",
    "        if not validate_name(name):\n",
    "            print(\"Invalid name. Please enter a name without special characters.\")\n",
    "            break\n",
    "        \n",
    "        marks = input(\"Enter your marks: \")\n",
    "        \n",
    "        if not validate_marks(marks):\n",
    "            print(\"Marks should be numeric.\")\n",
    "            break\n",
    "        \n",
    "        mobile_num = input(\"Enter your mobile number: \")\n",
    "        \n",
    "        if not validate_mobile(mobile_num):\n",
    "            print(\"Mobile number should be a 10-digit number.\")\n",
    "            break\n",
    "    \n",
    "        break\n",
    "\n",
    "    return name, marks, mobile_num"
   ]
  },
  {
   "cell_type": "code",
   "execution_count": 51,
   "metadata": {},
   "outputs": [
    {
     "ename": "TypeError",
     "evalue": "'<=' not supported between instances of 'int' and 'str'",
     "output_type": "error",
     "traceback": [
      "\u001b[1;31m---------------------------------------------------------------------------\u001b[0m",
      "\u001b[1;31mTypeError\u001b[0m                                 Traceback (most recent call last)",
      "Cell \u001b[1;32mIn[51], line 1\u001b[0m\n\u001b[1;32m----> 1\u001b[0m \u001b[43muser_input\u001b[49m\u001b[43m(\u001b[49m\u001b[43m)\u001b[49m\n",
      "Cell \u001b[1;32mIn[50], line 11\u001b[0m, in \u001b[0;36muser_input\u001b[1;34m()\u001b[0m\n\u001b[0;32m      7\u001b[0m     \u001b[38;5;28;01mbreak\u001b[39;00m\n\u001b[0;32m      9\u001b[0m marks \u001b[38;5;241m=\u001b[39m \u001b[38;5;28minput\u001b[39m(\u001b[38;5;124m\"\u001b[39m\u001b[38;5;124mEnter your marks: \u001b[39m\u001b[38;5;124m\"\u001b[39m)\n\u001b[1;32m---> 11\u001b[0m \u001b[38;5;28;01mif\u001b[39;00m \u001b[38;5;129;01mnot\u001b[39;00m \u001b[43mvalidate_marks\u001b[49m\u001b[43m(\u001b[49m\u001b[43mmarks\u001b[49m\u001b[43m)\u001b[49m:\n\u001b[0;32m     12\u001b[0m     \u001b[38;5;28mprint\u001b[39m(\u001b[38;5;124m\"\u001b[39m\u001b[38;5;124mMarks should be numeric.\u001b[39m\u001b[38;5;124m\"\u001b[39m)\n\u001b[0;32m     13\u001b[0m     \u001b[38;5;28;01mbreak\u001b[39;00m\n",
      "Cell \u001b[1;32mIn[48], line 3\u001b[0m, in \u001b[0;36mvalidate_marks\u001b[1;34m(marks)\u001b[0m\n\u001b[0;32m      1\u001b[0m \u001b[38;5;28;01mdef\u001b[39;00m \u001b[38;5;21mvalidate_marks\u001b[39m(marks):\n\u001b[0;32m      2\u001b[0m \u001b[38;5;250m    \u001b[39m\u001b[38;5;124;03m\"\"\"Check if the marks are numbers between 0 to 100\"\"\"\u001b[39;00m\n\u001b[1;32m----> 3\u001b[0m     \u001b[38;5;28;01mif\u001b[39;00m marks\u001b[38;5;241m.\u001b[39misdigit() \u001b[38;5;129;01mand\u001b[39;00m (\u001b[38;5;241;43m0\u001b[39;49m\u001b[43m \u001b[49m\u001b[38;5;241;43m<\u001b[39;49m\u001b[38;5;241;43m=\u001b[39;49m\u001b[43m \u001b[49m\u001b[43mmarks\u001b[49m\u001b[43m \u001b[49m\u001b[38;5;241;43m<\u001b[39;49m\u001b[38;5;241;43m=\u001b[39;49m\u001b[43m \u001b[49m\u001b[38;5;241;43m100\u001b[39;49m):\n\u001b[0;32m      4\u001b[0m         \u001b[38;5;28;01mreturn\u001b[39;00m \u001b[38;5;28;01mTrue\u001b[39;00m\n\u001b[0;32m      5\u001b[0m     \u001b[38;5;28;01mreturn\u001b[39;00m \u001b[38;5;28;01mFalse\u001b[39;00m\n",
      "\u001b[1;31mTypeError\u001b[0m: '<=' not supported between instances of 'int' and 'str'"
     ]
    }
   ],
   "source": [
    "user_input()"
   ]
  },
  {
   "cell_type": "code",
   "execution_count": 52,
   "metadata": {},
   "outputs": [],
   "source": [
    "class Error(Exception):\n",
    "    \"\"\"Base class of exception\"\"\"\n",
    "    pass\n",
    "\n",
    "class Name_field_error(Error):\n",
    "    \"\"\"This is the costomized error\"\"\"\n",
    "    pass"
   ]
  },
  {
   "cell_type": "code",
   "execution_count": 53,
   "metadata": {},
   "outputs": [
    {
     "name": "stdout",
     "output_type": "stream",
     "text": [
      "10 20\n",
      "10 20\n",
      "Try again\n"
     ]
    }
   ],
   "source": [
    "num = 10\n",
    "while True:\n",
    "    try:\n",
    "        in_number = input(\"enter the number\")\n",
    "        in_number = int(in_number)\n",
    "        print(num, in_number)\n",
    "        if in_number > num :\n",
    "            print(num, in_number)\n",
    "            raise Name_field_error\n",
    "        else:\n",
    "            break \n",
    "    except Name_field_error:\n",
    "        print('Try again')\n",
    "    except ValueError:\n",
    "        print(\"Wrong input, It should be integer\")\n",
    "    except:\n",
    "        print(\"something went wrong\")\n",
    "\n",
    "    finally:\n",
    "        dict\n",
    "\n",
    "    break\n"
   ]
  },
  {
   "cell_type": "code",
   "execution_count": 54,
   "metadata": {},
   "outputs": [
    {
     "name": "stdout",
     "output_type": "stream",
     "text": [
      "10\n",
      "15\n",
      "20\n",
      "25\n",
      "30\n"
     ]
    }
   ],
   "source": [
    "# itertools:\n",
    "from itertools import count, islice, cycle\n",
    "for i in count(10,5):\n",
    "    if i > 30:\n",
    "        break\n",
    "    else:\n",
    "        print(i)"
   ]
  },
  {
   "cell_type": "code",
   "execution_count": 55,
   "metadata": {},
   "outputs": [],
   "source": [
    "l1 = [10,20,30,40,50]"
   ]
  },
  {
   "cell_type": "code",
   "execution_count": 56,
   "metadata": {},
   "outputs": [
    {
     "name": "stdout",
     "output_type": "stream",
     "text": [
      "-10\n",
      "-8\n",
      "-6\n",
      "-4\n",
      "-2\n",
      "0\n",
      "2\n",
      "4\n",
      "6\n",
      "8\n"
     ]
    }
   ],
   "source": [
    "for i in islice(count(-10,2),10):\n",
    "    print(i)"
   ]
  },
  {
   "cell_type": "code",
   "execution_count": 73,
   "metadata": {},
   "outputs": [
    {
     "name": "stdout",
     "output_type": "stream",
     "text": [
      "40---44---48---52---56---"
     ]
    }
   ],
   "source": [
    "#count(start, step):\n",
    "for i in islice(count(0, 4), 10, 15):\n",
    "    print(i, end='---')"
   ]
  },
  {
   "cell_type": "code",
   "execution_count": 4,
   "metadata": {},
   "outputs": [
    {
     "data": {
      "text/plain": [
       "<itertools.cycle at 0x25796188700>"
      ]
     },
     "execution_count": 4,
     "metadata": {},
     "output_type": "execute_result"
    }
   ],
   "source": [
    "shapes=['Circle','Triangle','square','rectangle']\n",
    "cycle_obj = cycle(shapes)\n",
    "cycle_obj"
   ]
  },
  {
   "cell_type": "code",
   "execution_count": 10,
   "metadata": {},
   "outputs": [
    {
     "data": {
      "text/plain": [
       "'rectangle'"
      ]
     },
     "execution_count": 10,
     "metadata": {},
     "output_type": "execute_result"
    }
   ],
   "source": [
    "next(cycle_obj)"
   ]
  },
  {
   "cell_type": "markdown",
   "metadata": {},
   "source": [
    "## File Handling:"
   ]
  },
  {
   "cell_type": "code",
   "execution_count": 15,
   "metadata": {},
   "outputs": [],
   "source": [
    "# file Handling:\n",
    "file_obj = open(r\"E:\\OS - Users - Dell -\\OneDrive\\Desktop\\coursera assi\\financial aid answers.txt\")"
   ]
  },
  {
   "cell_type": "code",
   "execution_count": 16,
   "metadata": {},
   "outputs": [
    {
     "data": {
      "text/plain": [
       "25"
      ]
     },
     "execution_count": 16,
     "metadata": {},
     "output_type": "execute_result"
    }
   ],
   "source": [
    "file_obj.write(\"Hello, I'm doing practice\")"
   ]
  },
  {
   "cell_type": "code",
   "execution_count": 17,
   "metadata": {},
   "outputs": [],
   "source": [
    "file_obj.close()"
   ]
  },
  {
   "cell_type": "code",
   "execution_count": 19,
   "metadata": {},
   "outputs": [
    {
     "name": "stdout",
     "output_type": "stream",
     "text": [
      "D:\\Python\\deployment 0.0 kb\n",
      "D:\\Python\\dsa 0.0 kb\n",
      "D:\\Python\\GenAI 4.0 kb\n",
      "D:\\Python\\git 0.0 kb\n",
      "D:\\Python\\Internship_tasks.docx 18.392578125 kb\n",
      "D:\\Python\\NLP 0.0 kb\n",
      "D:\\Python\\OOP_python 0.0 kb\n",
      "D:\\Python\\Python_api 0.0 kb\n"
     ]
    }
   ],
   "source": [
    "import os\n",
    "for i in os.listdir(\"D:\\Python\"):\n",
    "    filename = \"D:\\\\Python\\\\\"+i\n",
    "    d = os.stat(filename).st_size/1024\n",
    "    print(filename, d, \"kb\")"
   ]
  },
  {
   "cell_type": "code",
   "execution_count": null,
   "metadata": {},
   "outputs": [],
   "source": [
    "import shutil\n",
    "shutil.copy(\"file_path\", \"folder_path\")\n",
    "shutil.move(\"file_path\", \"folder_path\")\n",
    "shutil.copytree(\"folder_path\", \"folder_path\")"
   ]
  },
  {
   "cell_type": "code",
   "execution_count": 21,
   "metadata": {},
   "outputs": [
    {
     "name": "stdout",
     "output_type": "stream",
     "text": [
      "position in loop =  25\n",
      "Hello, I'm doing practice\n",
      "position in loop =  25\n",
      "_____________________\n",
      "current position 4\n",
      "o, I'm doing practice\n"
     ]
    }
   ],
   "source": [
    "f=open(r\"E:\\OS - Users - Dell -\\OneDrive\\Desktop\\coursera assi\\financial aid answers.txt\")\n",
    "while True:\n",
    "    str1 = f.readline()\n",
    "    print(\"position in loop = \", f.tell())\n",
    "    if str1:\n",
    "        print(str1)\n",
    "    else:\n",
    "        break\n",
    "#####################\n",
    "\n",
    "\n",
    "print(\"_____________________\")\n",
    "f.seek(4)\n",
    "print(\"current position\", f.tell())\n",
    "print(f.readline())\n"
   ]
  },
  {
   "cell_type": "markdown",
   "metadata": {},
   "source": [
    "## Logging:"
   ]
  },
  {
   "cell_type": "code",
   "execution_count": null,
   "metadata": {},
   "outputs": [
    {
     "ename": "",
     "evalue": "",
     "output_type": "error",
     "traceback": [
      "\u001b[1;31mFailed to start the Kernel. \n",
      "\u001b[1;31mAttributeError: partially initialized module 'logging' has no attribute 'basicConfig' (most likely due to a circular import). \n",
      "\u001b[1;31mView Jupyter <a href='command:jupyter.viewOutput'>log</a> for further details."
     ]
    }
   ],
   "source": [
    "import logging\n",
    "\n",
    "logging.basicConfig(level=logging.DEBUG)\n",
    "\n",
    "logging.log(logging.DEBUG, \"Debug msg\")\n",
    "logging.log(logging.INFO, \"INFO msg\")\n",
    "logging.log(logging.WARNING, \"WARNING msg\")\n",
    "logging.log(logging.ERROR, \"ERROR MSG\")\n",
    "logging.log(logging.CRITICAL, \"CRITICAL msg\")"
   ]
  },
  {
   "cell_type": "code",
   "execution_count": 9,
   "metadata": {},
   "outputs": [
    {
     "name": "stderr",
     "output_type": "stream",
     "text": [
      "INFO:MyLogs:Information\n",
      "CRITICAL:MyLogs:Critical Info\n"
     ]
    }
   ],
   "source": [
    "# Creating the logger:\n",
    "logger = logging.getLogger(\"MyLogs\")\n",
    "logger.info(\"Information\")\n",
    "logger.critical(\"Critical Info\")"
   ]
  },
  {
   "cell_type": "code",
   "execution_count": 1,
   "metadata": {},
   "outputs": [
    {
     "name": "stderr",
     "output_type": "stream",
     "text": [
      "INFO:My_logs:INFO msg\n",
      "WARNING:My_logs:WARNING msg\n",
      "ERROR:My_logs:ERROR MSG\n",
      "CRITICAL:My_logs:CRITICAL msg\n"
     ]
    },
    {
     "name": "stdout",
     "output_type": "stream",
     "text": [
      "track_2024-07-31.log\n",
      "Login Page\n"
     ]
    }
   ],
   "source": [
    "import logging\n",
    "\n",
    "log_file = logging.FileHandler('new_file.log')\n",
    "log_file.setLevel(logging.WARNING)\n",
    "\n",
    "logger1 = logging.getLogger(\"MyLogs\") \n",
    "logger1.addHandler(log_file)\n",
    "\n",
    "print(\"Login Page\")\n",
    "logger1.log(logging.DEBUG, \"Debug msg\")\n",
    "logger1.log(logging.INFO, \"INFO msg\")\n",
    "logger1.log(logging.WARNING, \"WARNING msg\")\n",
    "logger1.log(logging.ERROR, \"ERROR MSG\")\n",
    "logger1.log(logging.CRITICAL, \"CRITICAL msg\")"
   ]
  },
  {
   "cell_type": "code",
   "execution_count": 1,
   "metadata": {},
   "outputs": [
    {
     "name": "stderr",
     "output_type": "stream",
     "text": [
      "DEBUG:Mylogs:Debug msg\n",
      "INFO:Mylogs:INFO msg\n",
      "WARNING:Mylogs:WARNING msg\n",
      "ERROR:Mylogs:ERROR MSG\n",
      "CRITICAL:Mylogs:CRITICAL msg\n"
     ]
    },
    {
     "name": "stdout",
     "output_type": "stream",
     "text": [
      "tracker_2024-07-31.log\n"
     ]
    }
   ],
   "source": [
    "import logging\n",
    "import datetime as dt\n",
    "\n",
    "now = dt.datetime.today()\n",
    "filename = f\"tracker_{now.year}-{now.month:02d}-{now.day}.log\"\n",
    "print(filename)\n",
    "\n",
    "logging.basicConfig(level=logging.DEBUG)\n",
    "\n",
    "logger1 = logging.getLogger(\"Mylogs\")\n",
    "\n",
    "gen_log_file = logging.FileHandler(filename)\n",
    "gen_log_file.setLevel(logging.DEBUG)\n",
    "format_file = logging.Formatter(\"%(asctime)s: %(levelname)s -- %(message)s\")  # Corrected here\n",
    "\n",
    "gen_log_file.setFormatter(format_file)\n",
    "\n",
    "logger1.addHandler(gen_log_file)\n",
    "\n",
    "logger1.debug(\"Debug msg\")\n",
    "logger1.info(\"INFO msg\")\n",
    "logger1.warning(\"WARNING msg\")\n",
    "logger1.error(\"ERROR MSG\")\n",
    "logger1.critical(\"CRITICAL msg\")\n"
   ]
  },
  {
   "cell_type": "code",
   "execution_count": 2,
   "metadata": {},
   "outputs": [
    {
     "name": "stdout",
     "output_type": "stream",
     "text": [
      "hello World\n"
     ]
    }
   ],
   "source": [
    "print(\"hello World\")"
   ]
  },
  {
   "cell_type": "code",
   "execution_count": null,
   "metadata": {},
   "outputs": [],
   "source": []
  }
 ],
 "metadata": {
  "kernelspec": {
   "display_name": "Python 3",
   "language": "python",
   "name": "python3"
  },
  "language_info": {
   "codemirror_mode": {
    "name": "ipython",
    "version": 3
   },
   "file_extension": ".py",
   "mimetype": "text/x-python",
   "name": "python",
   "nbconvert_exporter": "python",
   "pygments_lexer": "ipython3",
   "version": "3.11.9"
  }
 },
 "nbformat": 4,
 "nbformat_minor": 2
}
