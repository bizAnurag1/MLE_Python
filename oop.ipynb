{
 "cells": [
  {
   "cell_type": "code",
   "execution_count": 39,
   "metadata": {},
   "outputs": [],
   "source": [
    "class Person:\n",
    "    def __init__(self,name,gender):\n",
    "        self.name = name\n",
    "        self.gender = gender\n",
    "\n",
    "    @classmethod\n",
    "    def search(self, products, price):\n",
    "        self.products = products\n",
    "        self.price = price\n",
    "        print(\"you can search anything about:\", products, price)\n",
    "\n",
    "    def greet(person, name):\n",
    "        person.name = name\n",
    "        print(\"Hello\", person.name)\n"
   ]
  },
  {
   "cell_type": "code",
   "execution_count": 40,
   "metadata": {},
   "outputs": [
    {
     "name": "stdout",
     "output_type": "stream",
     "text": [
      "you can search anything about: Mobile 10000\n"
     ]
    }
   ],
   "source": [
    "Person.search('Mobile', '10000')"
   ]
  },
  {
   "cell_type": "code",
   "execution_count": 41,
   "metadata": {},
   "outputs": [
    {
     "name": "stdout",
     "output_type": "stream",
     "text": [
      "Hello Anurag\n"
     ]
    }
   ],
   "source": [
    "p = Person('Anurag', 'Male')\n",
    "Person.greet(p, p.name)"
   ]
  },
  {
   "cell_type": "code",
   "execution_count": 42,
   "metadata": {},
   "outputs": [
    {
     "name": "stdout",
     "output_type": "stream",
     "text": [
      "Hello nitish\n"
     ]
    }
   ],
   "source": [
    "\n",
    "a = Person('nitish','male')\n",
    "a.greet(a.name)"
   ]
  },
  {
   "cell_type": "code",
   "execution_count": 44,
   "metadata": {},
   "outputs": [
    {
     "name": "stdout",
     "output_type": "stream",
     "text": [
      "you can search anything about: camera 5000\n",
      "you can search anything about: Camera 5000\n"
     ]
    }
   ],
   "source": [
    "Person.search('camera', '5000')\n",
    "p.search('Camera', '5000')"
   ]
  },
  {
   "cell_type": "code",
   "execution_count": 45,
   "metadata": {},
   "outputs": [],
   "source": [
    "##Encapsulation:\n",
    "class Computer():\n",
    "    "
   ]
  },
  {
   "cell_type": "code",
   "execution_count": null,
   "metadata": {},
   "outputs": [],
   "source": []
  }
 ],
 "metadata": {
  "kernelspec": {
   "display_name": "Python 3",
   "language": "python",
   "name": "python3"
  },
  "language_info": {
   "codemirror_mode": {
    "name": "ipython",
    "version": 3
   },
   "file_extension": ".py",
   "mimetype": "text/x-python",
   "name": "python",
   "nbconvert_exporter": "python",
   "pygments_lexer": "ipython3",
   "version": "3.10.11"
  }
 },
 "nbformat": 4,
 "nbformat_minor": 2
}
