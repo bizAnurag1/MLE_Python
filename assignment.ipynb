{
 "cells": [
  {
   "cell_type": "code",
   "execution_count": 3,
   "metadata": {},
   "outputs": [],
   "source": [
    "import pandas as pd"
   ]
  },
  {
   "cell_type": "code",
   "execution_count": 4,
   "metadata": {},
   "outputs": [],
   "source": [
    "employee_df = pd.DataFrame(columns=['emp_id', 'name', 'marks_10', 'marks_12', 'mobile'])"
   ]
  },
  {
   "cell_type": "code",
   "execution_count": 5,
   "metadata": {},
   "outputs": [],
   "source": [
    "# Function to validate inputs\n",
    "def validate_input(name, marks_10, marks_12, mobile):\n",
    "    errors = []\n",
    "    # name validation:\n",
    "    if not name.isalpha():\n",
    "        errors.append(\"Name must contain only alphabetic characters.\")\n",
    "\n",
    "    # 10th marks validation:\n",
    "    try:\n",
    "        marks_10 = float(marks_10)\n",
    "        if not (0 <= marks_10 <= 100):\n",
    "            errors.append(\"10th marks must be between 0 and 100.\")\n",
    "    except ValueError:\n",
    "        errors.append(\"10th marks must be a number.\")\n",
    "\n",
    "    # 12th marks validation:\n",
    "    try:\n",
    "        marks_12 = float(marks_12)\n",
    "        if not (0 <= marks_12 <= 100):\n",
    "            errors.append(\"12th marks must be between 0 and 100.\")\n",
    "    except ValueError:\n",
    "        errors.append(\"12th marks must be a number.\")\n",
    "\n",
    "    # mobile number validation:\n",
    "    if not (mobile.isdigit() and len(mobile) == 10):\n",
    "        errors.append(\"Mobile number must be a 10-digit numeric value.\")\n",
    "\n",
    "    return errors"
   ]
  },
  {
   "cell_type": "code",
   "execution_count": 8,
   "metadata": {},
   "outputs": [],
   "source": [
    "import pyodbc"
   ]
  },
  {
   "cell_type": "code",
   "execution_count": 5,
   "metadata": {},
   "outputs": [],
   "source": [
    "# import pyodbc\n",
    "# connection_string = (\n",
    "#     'DRIVER={ODBC Driver 17 for SQL Server};'\n",
    "#     'SERVER=DESKTOP-LCQNRUE\\\\SQLEXPRESS;'\n",
    "#     'DATABASE=Errors;'\n",
    "#     'Trusted_Connection=yes;'\n",
    "# )\n",
    "# conn=pyodbc.connect(connection_string)\n",
    "# cursor = conn.cursor()"
   ]
  },
  {
   "cell_type": "code",
   "execution_count": 6,
   "metadata": {},
   "outputs": [],
   "source": [
    "# cursor.execute('''\n",
    "#     CREATE TABLE Errors (\n",
    "#         id INT IDENTITY(1,1) PRIMARY KEY,\n",
    "#         error_count INT,\n",
    "#         error_message NVARCHAR(MAX)\n",
    "#     )\n",
    "# ''')\n",
    "# # Commit the transaction\n",
    "# conn.commit()\n",
    "\n",
    "# # Close the connection\n",
    "# cursor.close()\n",
    "# conn.close()"
   ]
  },
  {
   "cell_type": "code",
   "execution_count": 9,
   "metadata": {},
   "outputs": [],
   "source": [
    "# Function to store error SQL db:\n",
    "def store_error_in_db(error_count, error_message):\n",
    "    connection_string = (\n",
    "    'DRIVER={ODBC Driver 17 for SQL Server};'\n",
    "    'SERVER=DESKTOP-LCQNRUE\\\\SQLEXPRESS;'\n",
    "    'DATABASE=Errors;'\n",
    "    'Trusted_Connection=yes;'\n",
    "    )\n",
    "    conn=pyodbc.connect(connection_string)\n",
    "    c = conn.cursor()\n",
    "    # c.execute('''\n",
    "    # CREATE TABLE Errors (\n",
    "    #     id INT IDENTITY(1,1) PRIMARY KEY,\n",
    "    #     error_count INT,\n",
    "    #     error_message NVARCHAR(MAX)\n",
    "    # )\n",
    "    # ''')\n",
    "    c.execute(\"INSERT INTO errors (error_count, error_message) VALUES (?, ?)\", \n",
    "                (error_count, error_message))\n",
    "    conn.commit()\n",
    "    conn.close()"
   ]
  },
  {
   "cell_type": "code",
   "execution_count": 10,
   "metadata": {},
   "outputs": [],
   "source": [
    "# Function to create employee ID\n",
    "def create_emp_id():\n",
    "    import uuid\n",
    "    return str(uuid.uuid4())"
   ]
  },
  {
   "cell_type": "code",
   "execution_count": 11,
   "metadata": {},
   "outputs": [],
   "source": [
    "last_emp_id = 0\n",
    "def update_emp_id():\n",
    "    global last_emp_id\n",
    "    last_emp_id += 1\n",
    "    return last_emp_id"
   ]
  },
  {
   "cell_type": "code",
   "execution_count": 15,
   "metadata": {},
   "outputs": [],
   "source": [
    "# Main function to get user input and process it\n",
    "def main():\n",
    "    \n",
    "    name = input(\"Enter your name: \")\n",
    "    marks_10 = input(\"Enter your 10th marks: \")\n",
    "    marks_12 = input(\"Enter your 12th marks: \")\n",
    "    mobile = input(\"Enter your mobile number: \")\n",
    "\n",
    "    # Validate inputs\n",
    "    errors = validate_input(name, marks_10, marks_12, mobile)\n",
    "    \n",
    "    if errors:\n",
    "        error_message = \"; \".join(errors)\n",
    "        store_error_in_db(len(errors), error_message)\n",
    "        print(\"Errors found:\")\n",
    "        for error in errors:\n",
    "            print(f\"- {error}\")\n",
    "    else:\n",
    "        # Create employee dictionary\n",
    "        emp_id = update_emp_id()\n",
    "        employee = {\n",
    "            'emp_id': emp_id,\n",
    "            'name': name,\n",
    "            'marks_10': marks_10,\n",
    "            'marks_12': marks_12,\n",
    "            'mobile': mobile\n",
    "        }\n",
    "        emp_dict = pd.DataFrame([employee])\n",
    "\n",
    "        global employee_df\n",
    "        employee_df = pd.concat([employee_df, emp_dict], ignore_index=True)\n",
    "        \n",
    "        print(\"Employee details stored successfully:\")\n",
    "        print(employee)"
   ]
  },
  {
   "cell_type": "code",
   "execution_count": 16,
   "metadata": {},
   "outputs": [
    {
     "name": "stdout",
     "output_type": "stream",
     "text": [
      "Employee details stored successfully:\n",
      "{'emp_id': 2, 'name': 'Anurag', 'marks_10': '91', 'marks_12': '85', 'mobile': '1234567890'}\n"
     ]
    }
   ],
   "source": [
    "# Run the main function\n",
    "if __name__ == \"__main__\":\n",
    "    main()"
   ]
  },
  {
   "cell_type": "code",
   "execution_count": 17,
   "metadata": {},
   "outputs": [
    {
     "data": {
      "text/html": [
       "<div>\n",
       "<style scoped>\n",
       "    .dataframe tbody tr th:only-of-type {\n",
       "        vertical-align: middle;\n",
       "    }\n",
       "\n",
       "    .dataframe tbody tr th {\n",
       "        vertical-align: top;\n",
       "    }\n",
       "\n",
       "    .dataframe thead th {\n",
       "        text-align: right;\n",
       "    }\n",
       "</style>\n",
       "<table border=\"1\" class=\"dataframe\">\n",
       "  <thead>\n",
       "    <tr style=\"text-align: right;\">\n",
       "      <th></th>\n",
       "      <th>emp_id</th>\n",
       "      <th>name</th>\n",
       "      <th>marks_10</th>\n",
       "      <th>marks_12</th>\n",
       "      <th>mobile</th>\n",
       "    </tr>\n",
       "  </thead>\n",
       "  <tbody>\n",
       "    <tr>\n",
       "      <th>0</th>\n",
       "      <td>2</td>\n",
       "      <td>Anurag</td>\n",
       "      <td>91</td>\n",
       "      <td>85</td>\n",
       "      <td>1234567890</td>\n",
       "    </tr>\n",
       "  </tbody>\n",
       "</table>\n",
       "</div>"
      ],
      "text/plain": [
       "  emp_id    name marks_10 marks_12      mobile\n",
       "0      2  Anurag       91       85  1234567890"
      ]
     },
     "execution_count": 17,
     "metadata": {},
     "output_type": "execute_result"
    }
   ],
   "source": [
    "employee_df"
   ]
  },
  {
   "cell_type": "code",
   "execution_count": null,
   "metadata": {},
   "outputs": [],
   "source": []
  }
 ],
 "metadata": {
  "kernelspec": {
   "display_name": "Python 3",
   "language": "python",
   "name": "python3"
  },
  "language_info": {
   "codemirror_mode": {
    "name": "ipython",
    "version": 3
   },
   "file_extension": ".py",
   "mimetype": "text/x-python",
   "name": "python",
   "nbconvert_exporter": "python",
   "pygments_lexer": "ipython3",
   "version": "3.11.9"
  }
 },
 "nbformat": 4,
 "nbformat_minor": 2
}
